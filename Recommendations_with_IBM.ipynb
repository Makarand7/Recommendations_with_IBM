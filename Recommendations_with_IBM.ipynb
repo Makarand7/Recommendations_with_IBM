{
 "cells": [
  {
   "cell_type": "markdown",
   "metadata": {},
   "source": [
    "# Recommendations with IBM\n",
    "\n",
    "In this notebook, you will be putting your recommendation skills to use on real data from the IBM Watson Studio platform. \n",
    "\n",
    "\n",
    "You may either submit your notebook through the workspace here, or you may work from your local machine and submit through the next page.  Either way assure that your code passes the project [RUBRIC](https://review.udacity.com/#!/rubrics/3325/view).  **Please save regularly.**\n",
    "\n",
    "By following the table of contents, you will build out a number of different methods for making recommendations that can be used for different situations. \n",
    "\n",
    "\n",
    "## Table of Contents\n",
    "\n",
    "I. [Exploratory Data Analysis](#Exploratory-Data-Analysis)<br>\n",
    "II. [Rank Based Recommendations](#Rank)<br>\n",
    "III. [User-User Based Collaborative Filtering](#User-User)<br>\n",
    "IV. [Content Based Recommendations](#Content-Recs)<br>\n",
    "V. [Matrix Factorization](#Matrix-Fact)<br>\n",
    "VI. [Project Analysis and Final Recommendations](#ProjectAnalysis)<br>\n",
    "VII. [Extras & Concluding](#conclusions)\n",
    "\n",
    "At the end of the notebook, you will find directions for how to submit your work.  Let's get started by importing the necessary libraries and reading in the data."
   ]
  },
  {
   "cell_type": "code",
   "execution_count": 1,
   "metadata": {},
   "outputs": [
    {
     "name": "stderr",
     "output_type": "stream",
     "text": [
      "C:\\Users\\Makarand\\AppData\\Roaming\\Python\\Python39\\site-packages\\pandas\\core\\arrays\\masked.py:60: UserWarning: Pandas requires version '1.3.6' or newer of 'bottleneck' (version '1.3.5' currently installed).\n",
      "  from pandas.core import (\n"
     ]
    },
    {
     "data": {
      "text/html": [
       "<div>\n",
       "<style scoped>\n",
       "    .dataframe tbody tr th:only-of-type {\n",
       "        vertical-align: middle;\n",
       "    }\n",
       "\n",
       "    .dataframe tbody tr th {\n",
       "        vertical-align: top;\n",
       "    }\n",
       "\n",
       "    .dataframe thead th {\n",
       "        text-align: right;\n",
       "    }\n",
       "</style>\n",
       "<table border=\"1\" class=\"dataframe\">\n",
       "  <thead>\n",
       "    <tr style=\"text-align: right;\">\n",
       "      <th></th>\n",
       "      <th>article_id</th>\n",
       "      <th>title</th>\n",
       "      <th>email</th>\n",
       "    </tr>\n",
       "  </thead>\n",
       "  <tbody>\n",
       "    <tr>\n",
       "      <th>0</th>\n",
       "      <td>1430.0</td>\n",
       "      <td>using pixiedust for fast, flexible, and easier...</td>\n",
       "      <td>ef5f11f77ba020cd36e1105a00ab868bbdbf7fe7</td>\n",
       "    </tr>\n",
       "    <tr>\n",
       "      <th>1</th>\n",
       "      <td>1314.0</td>\n",
       "      <td>healthcare python streaming application demo</td>\n",
       "      <td>083cbdfa93c8444beaa4c5f5e0f5f9198e4f9e0b</td>\n",
       "    </tr>\n",
       "    <tr>\n",
       "      <th>2</th>\n",
       "      <td>1429.0</td>\n",
       "      <td>use deep learning for image classification</td>\n",
       "      <td>b96a4f2e92d8572034b1e9b28f9ac673765cd074</td>\n",
       "    </tr>\n",
       "    <tr>\n",
       "      <th>3</th>\n",
       "      <td>1338.0</td>\n",
       "      <td>ml optimization using cognitive assistant</td>\n",
       "      <td>06485706b34a5c9bf2a0ecdac41daf7e7654ceb7</td>\n",
       "    </tr>\n",
       "    <tr>\n",
       "      <th>4</th>\n",
       "      <td>1276.0</td>\n",
       "      <td>deploy your python model as a restful api</td>\n",
       "      <td>f01220c46fc92c6e6b161b1849de11faacd7ccb2</td>\n",
       "    </tr>\n",
       "  </tbody>\n",
       "</table>\n",
       "</div>"
      ],
      "text/plain": [
       "   article_id                                              title  \\\n",
       "0      1430.0  using pixiedust for fast, flexible, and easier...   \n",
       "1      1314.0       healthcare python streaming application demo   \n",
       "2      1429.0         use deep learning for image classification   \n",
       "3      1338.0          ml optimization using cognitive assistant   \n",
       "4      1276.0          deploy your python model as a restful api   \n",
       "\n",
       "                                      email  \n",
       "0  ef5f11f77ba020cd36e1105a00ab868bbdbf7fe7  \n",
       "1  083cbdfa93c8444beaa4c5f5e0f5f9198e4f9e0b  \n",
       "2  b96a4f2e92d8572034b1e9b28f9ac673765cd074  \n",
       "3  06485706b34a5c9bf2a0ecdac41daf7e7654ceb7  \n",
       "4  f01220c46fc92c6e6b161b1849de11faacd7ccb2  "
      ]
     },
     "execution_count": 1,
     "metadata": {},
     "output_type": "execute_result"
    }
   ],
   "source": [
    "import pandas as pd\n",
    "import numpy as np\n",
    "import matplotlib.pyplot as plt\n",
    "import project_tests as t\n",
    "import pickle\n",
    "from sklearn.feature_extraction.text import TfidfVectorizer\n",
    "from sklearn.metrics.pairwise import cosine_similarity\n",
    "from subprocess import call\n",
    "\n",
    "%matplotlib inline\n",
    "\n",
    "df = pd.read_csv('data/user-item-interactions.csv')\n",
    "df_content = pd.read_csv('data/articles_community.csv')\n",
    "del df['Unnamed: 0']\n",
    "del df_content['Unnamed: 0']\n",
    "\n",
    "# Show df to get an idea of the data\n",
    "df.head()"
   ]
  },
  {
   "cell_type": "code",
   "execution_count": 2,
   "metadata": {},
   "outputs": [
    {
     "data": {
      "text/html": [
       "<div>\n",
       "<style scoped>\n",
       "    .dataframe tbody tr th:only-of-type {\n",
       "        vertical-align: middle;\n",
       "    }\n",
       "\n",
       "    .dataframe tbody tr th {\n",
       "        vertical-align: top;\n",
       "    }\n",
       "\n",
       "    .dataframe thead th {\n",
       "        text-align: right;\n",
       "    }\n",
       "</style>\n",
       "<table border=\"1\" class=\"dataframe\">\n",
       "  <thead>\n",
       "    <tr style=\"text-align: right;\">\n",
       "      <th></th>\n",
       "      <th>doc_body</th>\n",
       "      <th>doc_description</th>\n",
       "      <th>doc_full_name</th>\n",
       "      <th>doc_status</th>\n",
       "      <th>article_id</th>\n",
       "    </tr>\n",
       "  </thead>\n",
       "  <tbody>\n",
       "    <tr>\n",
       "      <th>0</th>\n",
       "      <td>Skip navigation Sign in SearchLoading...\\r\\n\\r...</td>\n",
       "      <td>Detect bad readings in real time using Python ...</td>\n",
       "      <td>Detect Malfunctioning IoT Sensors with Streami...</td>\n",
       "      <td>Live</td>\n",
       "      <td>0</td>\n",
       "    </tr>\n",
       "    <tr>\n",
       "      <th>1</th>\n",
       "      <td>No Free Hunch Navigation * kaggle.com\\r\\n\\r\\n ...</td>\n",
       "      <td>See the forest, see the trees. Here lies the c...</td>\n",
       "      <td>Communicating data science: A guide to present...</td>\n",
       "      <td>Live</td>\n",
       "      <td>1</td>\n",
       "    </tr>\n",
       "    <tr>\n",
       "      <th>2</th>\n",
       "      <td>☰ * Login\\r\\n * Sign Up\\r\\n\\r\\n * Learning Pat...</td>\n",
       "      <td>Here’s this week’s news in Data Science and Bi...</td>\n",
       "      <td>This Week in Data Science (April 18, 2017)</td>\n",
       "      <td>Live</td>\n",
       "      <td>2</td>\n",
       "    </tr>\n",
       "    <tr>\n",
       "      <th>3</th>\n",
       "      <td>DATALAYER: HIGH THROUGHPUT, LOW LATENCY AT SCA...</td>\n",
       "      <td>Learn how distributed DBs solve the problem of...</td>\n",
       "      <td>DataLayer Conference: Boost the performance of...</td>\n",
       "      <td>Live</td>\n",
       "      <td>3</td>\n",
       "    </tr>\n",
       "    <tr>\n",
       "      <th>4</th>\n",
       "      <td>Skip navigation Sign in SearchLoading...\\r\\n\\r...</td>\n",
       "      <td>This video demonstrates the power of IBM DataS...</td>\n",
       "      <td>Analyze NY Restaurant data using Spark in DSX</td>\n",
       "      <td>Live</td>\n",
       "      <td>4</td>\n",
       "    </tr>\n",
       "  </tbody>\n",
       "</table>\n",
       "</div>"
      ],
      "text/plain": [
       "                                            doc_body  \\\n",
       "0  Skip navigation Sign in SearchLoading...\\r\\n\\r...   \n",
       "1  No Free Hunch Navigation * kaggle.com\\r\\n\\r\\n ...   \n",
       "2  ☰ * Login\\r\\n * Sign Up\\r\\n\\r\\n * Learning Pat...   \n",
       "3  DATALAYER: HIGH THROUGHPUT, LOW LATENCY AT SCA...   \n",
       "4  Skip navigation Sign in SearchLoading...\\r\\n\\r...   \n",
       "\n",
       "                                     doc_description  \\\n",
       "0  Detect bad readings in real time using Python ...   \n",
       "1  See the forest, see the trees. Here lies the c...   \n",
       "2  Here’s this week’s news in Data Science and Bi...   \n",
       "3  Learn how distributed DBs solve the problem of...   \n",
       "4  This video demonstrates the power of IBM DataS...   \n",
       "\n",
       "                                       doc_full_name doc_status  article_id  \n",
       "0  Detect Malfunctioning IoT Sensors with Streami...       Live           0  \n",
       "1  Communicating data science: A guide to present...       Live           1  \n",
       "2         This Week in Data Science (April 18, 2017)       Live           2  \n",
       "3  DataLayer Conference: Boost the performance of...       Live           3  \n",
       "4      Analyze NY Restaurant data using Spark in DSX       Live           4  "
      ]
     },
     "execution_count": 2,
     "metadata": {},
     "output_type": "execute_result"
    }
   ],
   "source": [
    "# Show df_content to get an idea of the data\n",
    "df_content.head()"
   ]
  },
  {
   "cell_type": "markdown",
   "metadata": {},
   "source": [
    "### <a class=\"anchor\" id=\"Exploratory-Data-Analysis\">Part I : Exploratory Data Analysis</a>\n",
    "\n",
    "Use the dictionary and cells below to provide some insight into the descriptive statistics of the data.\n",
    "\n",
    "`1.` What is the distribution of how many articles a user interacts with in the dataset?  Provide a visual and descriptive statistics to assist with giving a look at the number of times each user interacts with an article.  "
   ]
  },
  {
   "cell_type": "code",
   "execution_count": 3,
   "metadata": {},
   "outputs": [
    {
     "data": {
      "text/plain": [
       "((45993, 3), (1056, 5))"
      ]
     },
     "execution_count": 3,
     "metadata": {},
     "output_type": "execute_result"
    }
   ],
   "source": [
    "df.shape,df_content.shape"
   ]
  },
  {
   "cell_type": "code",
   "execution_count": 4,
   "metadata": {},
   "outputs": [],
   "source": [
    "# Group by 'email' to get user-article interaction counts\n",
    "user_article_counts = df.groupby(\"email\")[\"article_id\"].count()"
   ]
  },
  {
   "cell_type": "code",
   "execution_count": 5,
   "metadata": {},
   "outputs": [],
   "source": [
    "# Fill in the median and maximum number of user_article interactios below\n",
    "median_val =  np.median(user_article_counts) # 50% of individuals interact with ____ number of articles or fewer.\n",
    "max_views_by_user =  user_article_counts.max() # The maximum number of user-article interactions by any 1 user is ______."
   ]
  },
  {
   "cell_type": "markdown",
   "metadata": {},
   "source": [
    "`2.` Explore and remove duplicate articles from the **df_content** dataframe.  "
   ]
  },
  {
   "cell_type": "code",
   "execution_count": 6,
   "metadata": {},
   "outputs": [
    {
     "name": "stdout",
     "output_type": "stream",
     "text": [
      "Total duplicate interactions: 18854\n"
     ]
    }
   ],
   "source": [
    "# Find and explore duplicate articles\n",
    "# Find duplicate rows (same user and article combination)\n",
    "duplicate_interactions = df[df.duplicated(subset=[\"email\", \"article_id\"], keep=False)]\n",
    "\n",
    "print(f\"Total duplicate interactions: {duplicate_interactions.shape[0]}\")\n",
    "#print(duplicate_interactions.head())"
   ]
  },
  {
   "cell_type": "code",
   "execution_count": 7,
   "metadata": {},
   "outputs": [
    {
     "name": "stdout",
     "output_type": "stream",
     "text": [
      "Total duplicate articles: 10\n"
     ]
    }
   ],
   "source": [
    "# Find duplicate article IDs in articles_community.csv\n",
    "duplicate_articles = df_content[df_content.duplicated(subset=[\"article_id\"], keep=False)]\n",
    "\n",
    "print(f\"Total duplicate articles: {duplicate_articles.shape[0]}\")\n",
    "#print(duplicate_articles.head())"
   ]
  },
  {
   "cell_type": "code",
   "execution_count": 8,
   "metadata": {},
   "outputs": [
    {
     "name": "stdout",
     "output_type": "stream",
     "text": [
      "Original df shape: (45993, 3)\n",
      "Cleaned df shape: (33682, 3)\n",
      "Original df_content shape: (1056, 5)\n",
      "Cleaned df_content shape: (1051, 5)\n"
     ]
    }
   ],
   "source": [
    "# Remove any rows that have the same article_id - only keep the first\n",
    "\n",
    "# Remove duplicates based on article_id\n",
    "df_interactions_cleaned = df.drop_duplicates(subset=[\"email\", \"article_id\"], keep=\"first\")\n",
    "\n",
    "# Check the shape of the cleaned DataFrame\n",
    "print(f\"Original df shape: {df.shape}\")\n",
    "print(f\"Cleaned df shape: {df_interactions_cleaned.shape}\")\n",
    "\n",
    "# Remove duplicates based on article_id and keep the first occurrence\n",
    "df_content_cleaned = df_content.drop_duplicates(subset=[\"article_id\"], keep=\"first\")\n",
    "\n",
    "# Check the shape of the cleaned DataFrame\n",
    "print(f\"Original df_content shape: {df_content.shape}\")\n",
    "print(f\"Cleaned df_content shape: {df_content_cleaned.shape}\")"
   ]
  },
  {
   "cell_type": "markdown",
   "metadata": {},
   "source": [
    "`3.` Use the cells below to find:\n",
    "\n",
    "**a.** The number of unique articles that have an interaction with a user.  \n",
    "**b.** The number of unique articles in the dataset (whether they have any interactions or not).<br>\n",
    "**c.** The number of unique users in the dataset. (excluding null values) <br>\n",
    "**d.** The number of user-article interactions in the dataset."
   ]
  },
  {
   "cell_type": "code",
   "execution_count": 9,
   "metadata": {},
   "outputs": [],
   "source": [
    "unique_articles = df_interactions_cleaned[\"article_id\"].nunique() # The number of unique articles that have at least one interaction\n",
    "total_articles = df_content_cleaned.shape[0] # The number of unique articles on the IBM platform\n",
    "unique_users = df_interactions_cleaned[\"email\"].nunique() # The number of unique users\n",
    "user_article_interactions = df.shape[0] # The number of user-article interactions"
   ]
  },
  {
   "cell_type": "markdown",
   "metadata": {},
   "source": [
    "`4.` Use the cells below to find the most viewed **article_id**, as well as how often it was viewed.  After talking to the company leaders, the `email_mapper` function was deemed a reasonable way to map users to ids.  There were a small number of null values, and it was found that all of these null values likely belonged to a single user (which is how they are stored using the function below)."
   ]
  },
  {
   "cell_type": "code",
   "execution_count": 10,
   "metadata": {},
   "outputs": [],
   "source": [
    "# Group by 'article_id' and count the number of interactions ('email') for each article\n",
    "article_view_counts = df.groupby(\"article_id\")[\"email\"].count()\n",
    "\n",
    "most_viewed_article_id = str(article_view_counts.idxmax()) # The most viewed article in the dataset as a string with one value following the decimal \n",
    "max_views = article_view_counts.max() # The most viewed article in the dataset was viewed how many times?"
   ]
  },
  {
   "cell_type": "code",
   "execution_count": 11,
   "metadata": {},
   "outputs": [
    {
     "data": {
      "text/html": [
       "<div>\n",
       "<style scoped>\n",
       "    .dataframe tbody tr th:only-of-type {\n",
       "        vertical-align: middle;\n",
       "    }\n",
       "\n",
       "    .dataframe tbody tr th {\n",
       "        vertical-align: top;\n",
       "    }\n",
       "\n",
       "    .dataframe thead th {\n",
       "        text-align: right;\n",
       "    }\n",
       "</style>\n",
       "<table border=\"1\" class=\"dataframe\">\n",
       "  <thead>\n",
       "    <tr style=\"text-align: right;\">\n",
       "      <th></th>\n",
       "      <th>article_id</th>\n",
       "      <th>title</th>\n",
       "      <th>user_id</th>\n",
       "    </tr>\n",
       "  </thead>\n",
       "  <tbody>\n",
       "    <tr>\n",
       "      <th>0</th>\n",
       "      <td>1430.0</td>\n",
       "      <td>using pixiedust for fast, flexible, and easier...</td>\n",
       "      <td>1</td>\n",
       "    </tr>\n",
       "    <tr>\n",
       "      <th>1</th>\n",
       "      <td>1314.0</td>\n",
       "      <td>healthcare python streaming application demo</td>\n",
       "      <td>2</td>\n",
       "    </tr>\n",
       "    <tr>\n",
       "      <th>2</th>\n",
       "      <td>1429.0</td>\n",
       "      <td>use deep learning for image classification</td>\n",
       "      <td>3</td>\n",
       "    </tr>\n",
       "    <tr>\n",
       "      <th>3</th>\n",
       "      <td>1338.0</td>\n",
       "      <td>ml optimization using cognitive assistant</td>\n",
       "      <td>4</td>\n",
       "    </tr>\n",
       "    <tr>\n",
       "      <th>4</th>\n",
       "      <td>1276.0</td>\n",
       "      <td>deploy your python model as a restful api</td>\n",
       "      <td>5</td>\n",
       "    </tr>\n",
       "  </tbody>\n",
       "</table>\n",
       "</div>"
      ],
      "text/plain": [
       "   article_id                                              title  user_id\n",
       "0      1430.0  using pixiedust for fast, flexible, and easier...        1\n",
       "1      1314.0       healthcare python streaming application demo        2\n",
       "2      1429.0         use deep learning for image classification        3\n",
       "3      1338.0          ml optimization using cognitive assistant        4\n",
       "4      1276.0          deploy your python model as a restful api        5"
      ]
     },
     "execution_count": 11,
     "metadata": {},
     "output_type": "execute_result"
    }
   ],
   "source": [
    "## No need to change the code here - this will be helpful for later parts of the notebook\n",
    "# Run this cell to map the user email to a user_id column and remove the email column\n",
    "\n",
    "def email_mapper():\n",
    "    coded_dict = dict()\n",
    "    cter = 1\n",
    "    email_encoded = []\n",
    "    \n",
    "    for val in df['email']:\n",
    "        if val not in coded_dict:\n",
    "            coded_dict[val] = cter\n",
    "            cter+=1\n",
    "        \n",
    "        email_encoded.append(coded_dict[val])\n",
    "    return email_encoded\n",
    "\n",
    "email_encoded = email_mapper()\n",
    "del df['email']\n",
    "df['user_id'] = email_encoded\n",
    "\n",
    "# show header\n",
    "df.head()"
   ]
  },
  {
   "cell_type": "code",
   "execution_count": 12,
   "metadata": {},
   "outputs": [
    {
     "name": "stdout",
     "output_type": "stream",
     "text": [
      "It looks like you have everything right here! Nice job!\n"
     ]
    }
   ],
   "source": [
    "## If you stored all your results in the variable names above, \n",
    "## you shouldn't need to change anything in this cell\n",
    "\n",
    "sol_1_dict = {\n",
    "    '`50% of individuals have _____ or fewer interactions.`': median_val,\n",
    "    '`The total number of user-article interactions in the dataset is ______.`': user_article_interactions,\n",
    "    '`The maximum number of user-article interactions by any 1 user is ______.`': max_views_by_user,\n",
    "    '`The most viewed article in the dataset was viewed _____ times.`': max_views,\n",
    "    '`The article_id of the most viewed article is ______.`': most_viewed_article_id,\n",
    "    '`The number of unique articles that have at least 1 rating ______.`': unique_articles,\n",
    "    '`The number of unique users in the dataset is ______`': unique_users,\n",
    "    '`The number of unique articles on the IBM platform`': total_articles\n",
    "}\n",
    "\n",
    "# Test your dictionary against the solution\n",
    "t.sol_1_test(sol_1_dict)"
   ]
  },
  {
   "cell_type": "markdown",
   "metadata": {},
   "source": [
    "### <a class=\"anchor\" id=\"Rank\">Part II: Rank-Based Recommendations</a>\n",
    "\n",
    "Unlike in the earlier lessons, we don't actually have ratings for whether a user liked an article or not.  We only know that a user has interacted with an article.  In these cases, the popularity of an article can really only be based on how often an article was interacted with.\n",
    "\n",
    "`1.` Fill in the function below to return the **n** top articles ordered with most interactions as the top. Test your function using the tests below."
   ]
  },
  {
   "cell_type": "code",
   "execution_count": 13,
   "metadata": {},
   "outputs": [],
   "source": [
    "def get_top_articles(n, df=df):\n",
    "    '''\n",
    "    INPUT:\n",
    "    n - (int) the number of top articles to return\n",
    "    df - (pandas dataframe) df as defined at the top of the notebook \n",
    "    \n",
    "    OUTPUT:\n",
    "    top_articles - (list) A list of the top 'n' article titles \n",
    "    \n",
    "    Description:\n",
    "    This function identifies the top `n` articles with the highest number of interactions \n",
    "    and retrieves their titles.\n",
    "    '''\n",
    "    # Group the dataframe by article titles and count the interactions\n",
    "    title_interactions = df.groupby('title').size().reset_index(name='interaction_count')\n",
    "    \n",
    "    # Sort the articles by interaction count in descending order\n",
    "    sorted_titles = title_interactions.sort_values(by='interaction_count', ascending=False)\n",
    "    \n",
    "    # Select the top n titles\n",
    "    top_articles = sorted_titles['title'].head(n).tolist()\n",
    "    \n",
    "    return top_articles\n",
    "\n",
    "def get_top_article_ids(n, df=df):\n",
    "    '''\n",
    "    INPUT:\n",
    "    n - (int) the number of top articles to return\n",
    "    df - (pandas dataframe) df as defined at the top of the notebook \n",
    "    \n",
    "    OUTPUT:\n",
    "    top_article_ids - (list) A list of the top 'n' article IDs \n",
    "    \n",
    "    Description:\n",
    "    This function identifies the top `n` articles with the highest number of interactions \n",
    "    and retrieves their unique IDs.\n",
    "    '''\n",
    "    # Group the dataframe by article IDs and count the interactions\n",
    "    article_interactions = df.groupby('article_id').size().reset_index(name='interaction_count')\n",
    "    \n",
    "    # Sort the articles by interaction count in descending order\n",
    "    sorted_ids = article_interactions.sort_values(by='interaction_count', ascending=False)\n",
    "    \n",
    "    # Select the top n article IDs as strings\n",
    "    top_article_ids = sorted_ids['article_id'].head(n).astype(str).tolist()\n",
    "    \n",
    "    return top_article_ids"
   ]
  },
  {
   "cell_type": "code",
   "execution_count": 14,
   "metadata": {},
   "outputs": [
    {
     "name": "stdout",
     "output_type": "stream",
     "text": [
      "['use deep learning for image classification', 'insights from new york car accident reports', 'visualize car data with brunel', 'use xgboost, scikit-learn & ibm watson machine learning apis', 'predicting churn with the spss random tree algorithm', 'healthcare python streaming application demo', 'finding optimal locations of new store using decision optimization', 'apache spark lab, part 1: basic concepts', 'analyze energy consumption in buildings', 'gosales transactions for logistic regression model']\n",
      "['1429.0', '1330.0', '1431.0', '1427.0', '1364.0', '1314.0', '1293.0', '1170.0', '1162.0', '1304.0']\n"
     ]
    }
   ],
   "source": [
    "print(get_top_articles(10))\n",
    "print(get_top_article_ids(10))"
   ]
  },
  {
   "cell_type": "code",
   "execution_count": 15,
   "metadata": {},
   "outputs": [
    {
     "name": "stdout",
     "output_type": "stream",
     "text": [
      "Your top_5 looks like the solution list! Nice job.\n",
      "Your top_10 looks like the solution list! Nice job.\n",
      "Your top_20 looks like the solution list! Nice job.\n"
     ]
    }
   ],
   "source": [
    "# Test your function by returning the top 5, 10, and 20 articles\n",
    "top_5 = get_top_articles(5)\n",
    "top_10 = get_top_articles(10)\n",
    "top_20 = get_top_articles(20)\n",
    "\n",
    "\n",
    "# Test each of your three lists from above\n",
    "t.sol_2_test(get_top_articles)"
   ]
  },
  {
   "cell_type": "markdown",
   "metadata": {},
   "source": [
    "### <a class=\"anchor\" id=\"User-User\">Part III: User-User Based Collaborative Filtering</a>\n",
    "\n",
    "\n",
    "`1.` Use the function below to reformat the **df** dataframe to be shaped with users as the rows and articles as the columns.  \n",
    "\n",
    "* Each **user** should only appear in each **row** once.\n",
    "\n",
    "\n",
    "* Each **article** should only show up in one **column**.  \n",
    "\n",
    "\n",
    "* **If a user has interacted with an article, then place a 1 where the user-row meets for that article-column**.  It does not matter how many times a user has interacted with the article, all entries where a user has interacted with an article should be a 1.  \n",
    "\n",
    "\n",
    "* **If a user has not interacted with an item, then place a zero where the user-row meets for that article-column**. \n",
    "\n",
    "Use the tests to make sure the basic structure of your matrix matches what is expected by the solution."
   ]
  },
  {
   "cell_type": "code",
   "execution_count": 16,
   "metadata": {},
   "outputs": [],
   "source": [
    "# Create the user-article matrix with 1's and 0's using pivot table and NumPy\n",
    "\n",
    "def create_user_item_matrix(df):\n",
    "    '''\n",
    "    INPUT:\n",
    "    df - pandas dataframe with article_id, title, user_id columns\n",
    "    \n",
    "    OUTPUT:\n",
    "    user_item - user-item matrix \n",
    "    \n",
    "    Description:\n",
    "    This function creates a matrix where each row corresponds to a user_id, \n",
    "    and each column corresponds to an article_id. The matrix contains 1 if the \n",
    "    user interacted with the article, and 0 otherwise.\n",
    "    '''\n",
    "    # Use pivot_table to construct the user-item matrix\n",
    "    user_item = df.pivot_table(index='user_id', columns='article_id', aggfunc='size', fill_value=0)\n",
    "    \n",
    "    # Save the original index and columns\n",
    "    index = user_item.index\n",
    "    columns = user_item.columns\n",
    "    \n",
    "    # Convert all non-zero values to 1 using NumPy\n",
    "    user_item = (user_item.values > 0).astype(int)\n",
    "    \n",
    "    # Reconstruct the DataFrame with the original index and columns\n",
    "    user_item = pd.DataFrame(user_item, index=index, columns=columns)\n",
    "    \n",
    "    return user_item\n",
    "\n",
    "# Generate the user-item matrix\n",
    "user_item = create_user_item_matrix(df)"
   ]
  },
  {
   "cell_type": "code",
   "execution_count": 17,
   "metadata": {},
   "outputs": [
    {
     "name": "stdout",
     "output_type": "stream",
     "text": [
      "You have passed our quick tests!  Please proceed!\n"
     ]
    }
   ],
   "source": [
    "## Tests: You should just need to run this cell.  Don't change the code.\n",
    "assert user_item.shape[0] == 5149, \"Oops!  The number of users in the user-article matrix doesn't look right.\"\n",
    "assert user_item.shape[1] == 714, \"Oops!  The number of articles in the user-article matrix doesn't look right.\"\n",
    "assert user_item.sum(axis=1)[1] == 36, \"Oops!  The number of articles seen by user 1 doesn't look right.\"\n",
    "print(\"You have passed our quick tests!  Please proceed!\")"
   ]
  },
  {
   "cell_type": "markdown",
   "metadata": {},
   "source": [
    "`2.` Complete the function below which should take a user_id and provide an ordered list of the most similar users to that user (from most similar to least similar).  The returned result should not contain the provided user_id, as we know that each user is similar to him/herself. Because the results for each user here are binary, it (perhaps) makes sense to compute similarity as the dot product of two users. \n",
    "\n",
    "Use the tests to test your function."
   ]
  },
  {
   "cell_type": "code",
   "execution_count": 18,
   "metadata": {},
   "outputs": [],
   "source": [
    "def find_similar_users(user_id, user_item=user_item):\n",
    "    '''\n",
    "    INPUT:\n",
    "    user_id - (int) a user_id\n",
    "    user_item - (pandas dataframe) matrix of users by articles: \n",
    "                1's when a user has interacted with an article, 0 otherwise\n",
    "    \n",
    "    OUTPUT:\n",
    "    similar_users - (list) an ordered list where the closest users (largest dot product users)\n",
    "                    are listed first\n",
    "    \n",
    "    Description:\n",
    "    Computes the similarity of every pair of users based on the dot product.\n",
    "    Returns an ordered list of users based on similarity, excluding the user_id itself.\n",
    "    '''\n",
    "    # Compute similarity for all users with the given user\n",
    "    user_similarity_scores = user_item @ user_item.loc[user_id]\n",
    "    \n",
    "    # Convert the Series to a DataFrame\n",
    "    similarity_df = user_similarity_scores.reset_index()\n",
    "    similarity_df.columns = ['user_id', 'similarity']\n",
    "    \n",
    "    # Exclude the target user and sort by similarity in descending order\n",
    "    similarity_df = similarity_df[similarity_df['user_id'] != user_id].sort_values(by='similarity', ascending=False)\n",
    "    \n",
    "    # Extract the sorted user IDs as a list\n",
    "    similar_users = similarity_df['user_id'].tolist()\n",
    "    \n",
    "    return similar_users  # Return the list of user_ids sorted by similarity"
   ]
  },
  {
   "cell_type": "code",
   "execution_count": 19,
   "metadata": {
    "scrolled": true
   },
   "outputs": [
    {
     "name": "stdout",
     "output_type": "stream",
     "text": [
      "The 10 most similar users to user 1 are: [3933, 23, 3782, 203, 4459, 3870, 131, 46, 4201, 395]\n",
      "The 5 most similar users to user 3933 are: [1, 23, 3782, 4459, 203]\n",
      "The 3 most similar users to user 46 are: [4201, 23, 3782]\n"
     ]
    }
   ],
   "source": [
    "# Do a spot check of your function\n",
    "print(\"The 10 most similar users to user 1 are: {}\".format(find_similar_users(1)[:10]))\n",
    "print(\"The 5 most similar users to user 3933 are: {}\".format(find_similar_users(3933)[:5]))\n",
    "print(\"The 3 most similar users to user 46 are: {}\".format(find_similar_users(46)[:3]))"
   ]
  },
  {
   "cell_type": "markdown",
   "metadata": {},
   "source": [
    "`3.` Now that you have a function that provides the most similar users to each user, you will want to use these users to find articles you can recommend.  Complete the functions below to return the articles you would recommend to each user. "
   ]
  },
  {
   "cell_type": "code",
   "execution_count": 20,
   "metadata": {},
   "outputs": [],
   "source": [
    "def get_article_names(article_ids, df=df):\n",
    "    '''\n",
    "    INPUT:\n",
    "    article_ids - (list) a list of article ids\n",
    "    df - (pandas dataframe) df as defined at the top of the notebook\n",
    "    \n",
    "    OUTPUT:\n",
    "    article_names - (list) a list of article names associated with the list of article ids \n",
    "                    (this is identified by the title column)\n",
    "    \n",
    "    Description:\n",
    "    Returns the article titles corresponding to the provided article IDs.\n",
    "    '''\n",
    "    # Create a dictionary to map article IDs to titles\n",
    "    id_to_title = df.set_index('article_id')['title'].to_dict()\n",
    "    \n",
    "    # Use list comprehension to retrieve titles for the given article IDs\n",
    "    article_names = [id_to_title.get(float(article_id), \"Unknown\") for article_id in article_ids]\n",
    "    \n",
    "    return article_names  # Return the article names\n",
    "\n",
    "\n",
    "def get_user_articles(user_id, user_item=user_item):\n",
    "    '''\n",
    "    INPUT:\n",
    "    user_id - (int) a user id\n",
    "    user_item - (pandas dataframe) matrix of users by articles: \n",
    "                1's when a user has interacted with an article, 0 otherwise\n",
    "    \n",
    "    OUTPUT:\n",
    "    article_ids - (list) a list of the article ids seen by the user\n",
    "    article_names - (list) a list of article names associated with the list of article ids \n",
    "    \n",
    "    Description:\n",
    "    Extracts the article IDs and titles that the user has interacted with.\n",
    "    '''\n",
    "    # Identify the row corresponding to the user\n",
    "    user_row = user_item.loc[user_id]\n",
    "    \n",
    "    # Find article IDs where the user has interacted\n",
    "    article_ids = [col for col, val in zip(user_row.index, user_row.values) if val == 1]\n",
    "    \n",
    "    # Convert article IDs to strings\n",
    "    article_ids = list(map(str, article_ids))\n",
    "    \n",
    "    # Retrieve article names using the helper function\n",
    "    article_names = get_article_names(article_ids)\n",
    "    \n",
    "    return article_ids, article_names\n",
    "\n",
    "def user_user_recs(user_id, m=10):\n",
    "    '''\n",
    "    INPUT:\n",
    "    user_id - (int) a user id\n",
    "    m - (int) the number of recommendations you want for the user\n",
    "    \n",
    "    OUTPUT:\n",
    "    recs - (list) a list of recommendations for the user\n",
    "    \n",
    "    Description:\n",
    "    Finds articles the user hasn't seen before and provides recommendations \n",
    "    based on similar users.\n",
    "    '''\n",
    "    # Step 1: Fetch the articles already seen by the user\n",
    "    user_articles, user_articles_names = get_user_articles(user_id)\n",
    "    \n",
    "    # Step 2: Find similar users and initialize recommendation tracking\n",
    "    similar_users = find_similar_users(user_id)\n",
    "    unseen_articles = []\n",
    "    \n",
    "    # Step 3: Traverse through similar users to gather recommendations\n",
    "    for similar_user in similar_users:\n",
    "        articles_by_user, articles_by_user_name = get_user_articles(similar_user)\n",
    "        \n",
    "        # Append unseen articles to the list\n",
    "        unseen_articles.extend([article for article in articles_by_user if article not in user_articles])\n",
    "        \n",
    "        # Stop if enough recommendations are found\n",
    "        if len(set(unseen_articles)) >= m:\n",
    "            break\n",
    "    \n",
    "    # Step 4: Ensure consistent ordering and limit recommendations to 'm'\n",
    "    unseen_articles = list(dict.fromkeys(unseen_articles))  # Remove duplicates while preserving order\n",
    "    recs = unseen_articles[:m]\n",
    "    \n",
    "    return recs"
   ]
  },
  {
   "cell_type": "code",
   "execution_count": 21,
   "metadata": {},
   "outputs": [
    {
     "data": {
      "text/plain": [
       "['this week in data science (april 18, 2017)',\n",
       " 'timeseries data analysis of iot events by using jupyter notebook',\n",
       " 'got zip code data? prep it for analytics. – ibm watson data lab – medium',\n",
       " 'higher-order logistic regression for large datasets',\n",
       " 'using machine learning to predict parking difficulty',\n",
       " 'deep forest: towards an alternative to deep neural networks',\n",
       " 'experience iot with coursera',\n",
       " 'using brunel in ipython/jupyter notebooks',\n",
       " 'graph-based machine learning',\n",
       " 'the 3 kinds of context: machine learning and the art of the frame']"
      ]
     },
     "execution_count": 21,
     "metadata": {},
     "output_type": "execute_result"
    }
   ],
   "source": [
    "# Check Results\n",
    "get_article_names(user_user_recs(1, 10)) # Return 10 recommendations for user 1"
   ]
  },
  {
   "cell_type": "code",
   "execution_count": 22,
   "metadata": {},
   "outputs": [
    {
     "name": "stdout",
     "output_type": "stream",
     "text": [
      "If this is all you see, you passed all of our tests!  Nice job!\n"
     ]
    }
   ],
   "source": [
    "# Test your functions here - No need to change this code - just run this cell\n",
    "assert set(get_article_names(['1024.0', '1176.0', '1305.0', '1314.0', '1422.0', '1427.0'])) == set(['using deep learning to reconstruct high-resolution audio', 'build a python app on the streaming analytics service', 'gosales transactions for naive bayes model', 'healthcare python streaming application demo', 'use r dataframes & ibm watson natural language understanding', 'use xgboost, scikit-learn & ibm watson machine learning apis']), \"Oops! Your the get_article_names function doesn't work quite how we expect.\"\n",
    "assert set(get_article_names(['1320.0', '232.0', '844.0'])) == set(['housing (2015): united states demographic measures','self-service data preparation with ibm data refinery','use the cloudant-spark connector in python notebook']), \"Oops! Your the get_article_names function doesn't work quite how we expect.\"\n",
    "assert set(get_user_articles(20)[0]) == set(['1320.0', '232.0', '844.0'])\n",
    "assert set(get_user_articles(20)[1]) == set(['housing (2015): united states demographic measures', 'self-service data preparation with ibm data refinery','use the cloudant-spark connector in python notebook'])\n",
    "assert set(get_user_articles(2)[0]) == set(['1024.0', '1176.0', '1305.0', '1314.0', '1422.0', '1427.0'])\n",
    "assert set(get_user_articles(2)[1]) == set(['using deep learning to reconstruct high-resolution audio', 'build a python app on the streaming analytics service', 'gosales transactions for naive bayes model', 'healthcare python streaming application demo', 'use r dataframes & ibm watson natural language understanding', 'use xgboost, scikit-learn & ibm watson machine learning apis'])\n",
    "print(\"If this is all you see, you passed all of our tests!  Nice job!\")"
   ]
  },
  {
   "cell_type": "markdown",
   "metadata": {},
   "source": [
    "`4.` Now we are going to improve the consistency of the **user_user_recs** function from above.  \n",
    "\n",
    "* Instead of arbitrarily choosing when we obtain users who are all the same closeness to a given user - choose the users that have the most total article interactions before choosing those with fewer article interactions.\n",
    "\n",
    "\n",
    "* Instead of arbitrarily choosing articles from the user where the number of recommended articles starts below m and ends exceeding m, choose articles with the articles with the most total interactions before choosing those with fewer total interactions. This ranking should be  what would be obtained from the **top_articles** function you wrote earlier."
   ]
  },
  {
   "cell_type": "code",
   "execution_count": 23,
   "metadata": {},
   "outputs": [],
   "source": [
    "def get_top_sorted_users(user_id, df=df, user_item=user_item):\n",
    "    '''\n",
    "    INPUT:\n",
    "    user_id - (int)\n",
    "    df - (pandas dataframe) df as defined at the top of the notebook \n",
    "    user_item - (pandas dataframe) matrix of users by articles: \n",
    "                1's when a user has interacted with an article, 0 otherwise\n",
    "    \n",
    "    OUTPUT:\n",
    "    neighbors_df - (pandas dataframe) a dataframe with:\n",
    "                    neighbor_id - is a neighbor user_id\n",
    "                    similarity - measure of the similarity of each user to the provided user_id\n",
    "                    num_interactions - the number of articles viewed by the user\n",
    "    \n",
    "    Other Details - sort the neighbors_df by the similarity and then by number of interactions where \n",
    "                    highest of each is higher in the dataframe\n",
    "    '''\n",
    "    # Compute the similarity using numpy for efficiency and clarity\n",
    "    user_similarity_scores = np.dot(user_item, user_item.loc[user_id].values)\n",
    "\n",
    "    # Create a DataFrame to store the similarity scores\n",
    "    similarity_data = pd.DataFrame({\n",
    "        'user_id': user_item.index,\n",
    "        'similarity': user_similarity_scores\n",
    "    }).query('user_id != @user_id')  # Filter out the current user\n",
    "\n",
    "    # Calculate the number of interactions for each user\n",
    "    user_interaction_counts = df.groupby('user_id').size()\n",
    "    user_interaction_counts.name = 'num_interactions'  # Assign name to the Series\n",
    "\n",
    "    # Merge similarity scores with the number of interactions\n",
    "    neighbors_df = pd.merge(similarity_data, user_interaction_counts, left_on='user_id', right_index=True, how='left')\n",
    "    neighbors_df.rename(columns={'user_id': 'neighbor_id'}, inplace=True)\n",
    "\n",
    "    # Sort by similarity and number of interactions in descending order.\n",
    "    # Use neighbor_id as a tiebreaker in ascending order for consistent results.\n",
    "    neighbors_df.sort_values(by=['similarity', 'num_interactions', 'neighbor_id'], \n",
    "                         ascending=[False, False, True], inplace=True)\n",
    "    \n",
    "    return neighbors_df\n",
    "\n",
    "def user_user_recs_part2(user_id, m=10):\n",
    "    '''\n",
    "    INPUT:\n",
    "    user_id - (int) a user id\n",
    "    m - (int) the number of recommendations you want for the user\n",
    "    \n",
    "    OUTPUT:\n",
    "    recs - (list) a list of recommendations for the user by article id\n",
    "    rec_names - (list) a list of recommendations for the user by article title\n",
    "    \n",
    "    Description:\n",
    "    Loops through users who have similar behaviors to the input user_id.\n",
    "    Collects articles not seen by the user, prioritizing those with higher interaction counts.\n",
    "    Stops after gathering 'm' recommendations.\n",
    "    '''\n",
    "    # Get articles already seen by the user\n",
    "    user_articles = set(get_user_articles(user_id)[0])\n",
    "    \n",
    "    # Fetch sorted neighbors and their interactions\n",
    "    sorted_neighbors = get_top_sorted_users(user_id)\n",
    "    recommended = []\n",
    "    top_articles_full_list = get_top_article_ids(df['article_id'].nunique())\n",
    "    \n",
    "    # Loop over sorted neighbors to find unseen articles\n",
    "    for _, row in sorted_neighbors.iterrows():\n",
    "        neighbor_articles = set(get_user_articles(row['neighbor_id'])[0])\n",
    "        unseen = neighbor_articles - user_articles\n",
    "        \n",
    "        # Sort unseen articles by their global popularity ranking\n",
    "        unseen_sorted = sorted(unseen, key=lambda x: top_articles_full_list.index(x))\n",
    "        \n",
    "        # Add unseen articles to the recommendations list while retaining order\n",
    "        recommended.extend(article for article in unseen_sorted if article not in recommended)\n",
    "        \n",
    "        if len(recommended) >= m:\n",
    "            break\n",
    "\n",
    "    # Select the top 'm' recommendations while retaining their sorted order\n",
    "    recs = recommended[:m]\n",
    "    \n",
    "    rec_names = get_article_names(recs)\n",
    "    \n",
    "    return recs, rec_names"
   ]
  },
  {
   "cell_type": "code",
   "execution_count": 24,
   "metadata": {},
   "outputs": [
    {
     "name": "stdout",
     "output_type": "stream",
     "text": [
      "The top 10 recommendations for user 20 are the following article ids:\n",
      "['1330.0', '1427.0', '1364.0', '1170.0', '1162.0', '1304.0', '1351.0', '1160.0', '1354.0', '1368.0']\n",
      "\n",
      "The top 10 recommendations for user 20 are the following article names:\n",
      "['insights from new york car accident reports', 'use xgboost, scikit-learn & ibm watson machine learning apis', 'predicting churn with the spss random tree algorithm', 'apache spark lab, part 1: basic concepts', 'analyze energy consumption in buildings', 'gosales transactions for logistic regression model', 'model bike sharing data with spss', 'analyze accident reports on amazon emr spark', 'movie recommender system with spark machine learning', 'putting a human face on machine learning']\n"
     ]
    }
   ],
   "source": [
    "# Quick spot check - don't change this code - just use it to test your functions\n",
    "rec_ids, rec_names = user_user_recs_part2(20, 10)\n",
    "print(\"The top 10 recommendations for user 20 are the following article ids:\")\n",
    "print(rec_ids)\n",
    "print()\n",
    "print(\"The top 10 recommendations for user 20 are the following article names:\")\n",
    "print(rec_names)"
   ]
  },
  {
   "cell_type": "code",
   "execution_count": 25,
   "metadata": {},
   "outputs": [
    {
     "data": {
      "text/plain": [
       "(['1330.0',\n",
       "  '1427.0',\n",
       "  '1364.0',\n",
       "  '1314.0',\n",
       "  '1293.0',\n",
       "  '1170.0',\n",
       "  '1162.0',\n",
       "  '1304.0',\n",
       "  '1436.0',\n",
       "  '43.0'],\n",
       " ['insights from new york car accident reports',\n",
       "  'use xgboost, scikit-learn & ibm watson machine learning apis',\n",
       "  'predicting churn with the spss random tree algorithm',\n",
       "  'healthcare python streaming application demo',\n",
       "  'finding optimal locations of new store using decision optimization',\n",
       "  'apache spark lab, part 1: basic concepts',\n",
       "  'analyze energy consumption in buildings',\n",
       "  'gosales transactions for logistic regression model',\n",
       "  'welcome to pixiedust',\n",
       "  'deep learning with tensorflow course by big data university'])"
      ]
     },
     "execution_count": 25,
     "metadata": {},
     "output_type": "execute_result"
    }
   ],
   "source": [
    "rec_ids_1427, rec_names_1427 = user_user_recs_part2(1427, 10)\n",
    "rec_ids_1427,rec_names_1427"
   ]
  },
  {
   "cell_type": "markdown",
   "metadata": {},
   "source": [
    "`5.` Use your functions from above to correctly fill in the solutions to the dictionary below.  Then test your dictionary against the solution.  Provide the code you need to answer each following the comments below."
   ]
  },
  {
   "cell_type": "code",
   "execution_count": 26,
   "metadata": {},
   "outputs": [
    {
     "name": "stdout",
     "output_type": "stream",
     "text": [
      "The most similar user to User 1: 3933\n",
      "The 10th most similar user to User 131: 242\n"
     ]
    }
   ],
   "source": [
    "### Tests with a dictionary of results\n",
    "# Get the top sorted neighbors for user 1 and user 131\n",
    "sorted_neighbors_user1 = get_top_sorted_users(1)\n",
    "sorted_neighbors_user131 = get_top_sorted_users(131)\n",
    "\n",
    "# Extract the most similar user to user 1 using positional indexing\n",
    "user1_most_sim = sorted_neighbors_user1.iloc[0]['neighbor_id']\n",
    "\n",
    "# Extract the 10th most similar user to user 131 using positional indexing\n",
    "user131_10th_sim = sorted_neighbors_user131.iloc[9]['neighbor_id']\n",
    "\n",
    "# Print the results\n",
    "print(f\"The most similar user to User 1: {user1_most_sim}\")\n",
    "print(f\"The 10th most similar user to User 131: {user131_10th_sim}\")\n"
   ]
  },
  {
   "cell_type": "code",
   "execution_count": 27,
   "metadata": {},
   "outputs": [
    {
     "name": "stdout",
     "output_type": "stream",
     "text": [
      "This all looks good!  Nice job!\n"
     ]
    }
   ],
   "source": [
    "## Dictionary Test Here\n",
    "sol_5_dict = {\n",
    "    'The user that is most similar to user 1.': user1_most_sim, \n",
    "    'The user that is the 10th most similar to user 131': user131_10th_sim,\n",
    "}\n",
    "\n",
    "t.sol_5_test(sol_5_dict)"
   ]
  },
  {
   "cell_type": "markdown",
   "metadata": {},
   "source": [
    "`6.` If we were given a new user, which of the above functions would you be able to use to make recommendations?  Explain.  Can you think of a better way we might make recommendations?  Use the cell below to explain a better method for new users."
   ]
  },
  {
   "cell_type": "markdown",
   "metadata": {},
   "source": [
    "\"If we were given a new user, we could use the `get_top_articles()` function to make recommendations based on rank-based methods. Since the new user has not interacted with any articles yet, we cannot apply collaborative filtering to find similar articles with existing users. Therefore, using rank-based methods to recommend the most popular articles based on interactions from other users would be a good approach for a new user.\n",
    "\n",
    "However, a better way to make recommendations for new users could involve **content-based filtering**. By analyzing the content of the articles—such as their descriptions, keywords, or topics—we could recommend articles that match the user’s potential interests, even without prior interaction data. This method allows us to recommend articles based on their attributes, which could be inferred from user preferences or profile information (if available).\n",
    "\n",
    "**An even better approach** could be using a **hybrid recommendation system** that combines both collaborative filtering (for existing users) and content-based filtering (for new users). This hybrid system would solve the **cold-start problem** by offering content-based recommendations to new users, while collaborative filtering could be used once the user has interacted with enough content, providing more personalized recommendations over time.\""
   ]
  },
  {
   "cell_type": "markdown",
   "metadata": {},
   "source": [
    "`7.` Using your existing functions, provide the top 10 recommended articles you would provide for the a new user below.  You can test your function against our thoughts to make sure we are all on the same page with how we might make a recommendation."
   ]
  },
  {
   "cell_type": "code",
   "execution_count": 28,
   "metadata": {},
   "outputs": [
    {
     "data": {
      "text/plain": [
       "['1429.0',\n",
       " '1330.0',\n",
       " '1431.0',\n",
       " '1427.0',\n",
       " '1364.0',\n",
       " '1314.0',\n",
       " '1293.0',\n",
       " '1170.0',\n",
       " '1162.0',\n",
       " '1304.0']"
      ]
     },
     "execution_count": 28,
     "metadata": {},
     "output_type": "execute_result"
    }
   ],
   "source": [
    "new_user = '0.0'\n",
    "\n",
    "# What would your recommendations be for this new user '0.0'?  As a new user, they have no observed articles.\n",
    "# Provide a list of the top 10 article ids you would give to \n",
    "new_user_recs = get_top_article_ids(10) # Your recommendations here\n",
    "new_user_recs"
   ]
  },
  {
   "cell_type": "code",
   "execution_count": 29,
   "metadata": {},
   "outputs": [
    {
     "name": "stdout",
     "output_type": "stream",
     "text": [
      "That's right!  Nice job!\n"
     ]
    }
   ],
   "source": [
    "assert set(new_user_recs) == set(['1314.0','1429.0','1293.0','1427.0','1162.0','1364.0','1304.0','1170.0','1431.0','1330.0']), \"Oops!  It makes sense that in this case we would want to recommend the most popular articles, because we don't know anything about these users.\"\n",
    "\n",
    "print(\"That's right!  Nice job!\")"
   ]
  },
  {
   "cell_type": "markdown",
   "metadata": {},
   "source": [
    "### <a class=\"anchor\" id=\"Content-Recs\">Part IV: Content Based Recommendations</a>\n",
    "\n",
    "Another method we might use to make recommendations is to perform a ranking of the highest ranked articles associated with some term.  You might consider content to be the **doc_body**, **doc_description**, or **doc_full_name**.  There isn't one way to create a content based recommendation, especially considering that each of these columns hold content related information.  \n",
    "\n",
    "`1.` Use the function body below to create a content based recommender.  Since there isn't one right answer for this recommendation tactic, no test functions are provided.  Feel free to change the function inputs if you decide you want to try a method that requires more input values.  The input values are currently set with one idea in mind that you may use to make content based recommendations.  One additional idea is that you might want to choose the most popular recommendations that meet your 'content criteria', but again, there is a lot of flexibility in how you might make these recommendations."
   ]
  },
  {
   "cell_type": "code",
   "execution_count": 30,
   "metadata": {},
   "outputs": [],
   "source": [
    "def make_content_recs(df_content, article_id, top_n=10):\n",
    "    '''\n",
    "    INPUT:\n",
    "    df_content - (DataFrame) DataFrame containing article details (e.g., doc_body, doc_description, doc_full_name)\n",
    "    article_id - (int) The article_id for which recommendations will be made\n",
    "    top_n - (int) The number of top articles to return (default is 10)\n",
    "\n",
    "    OUTPUT:\n",
    "    recommendations - (DataFrame) DataFrame containing article IDs and doc_full_name of the most similar articles\n",
    "                      Returns an empty DataFrame if no recommendations are available.\n",
    "    '''\n",
    "    \n",
    "    # Check if the article_id exists in df_content\n",
    "    if article_id not in df_content['article_id'].values:\n",
    "        print(f\"Error: Article ID {article_id} not found in df_content.\")\n",
    "        return pd.DataFrame()  # Return an empty DataFrame if the article ID is not found\n",
    "    \n",
    "    # Combine relevant content columns into a single string\n",
    "    df_content['content'] = (\n",
    "        df_content['doc_body'].fillna('') \n",
    "        + \" \" \n",
    "        + df_content['doc_description'].fillna('') \n",
    "        + \" \" \n",
    "        + df_content['doc_full_name'].fillna('')\n",
    "    )\n",
    "    \n",
    "    # Remove irrelevant content like \"Skip navigation\" (if present)\n",
    "    df_content['content'] = df_content['content'].replace(r\"Skip navigation.*\", \"\", regex=True)\n",
    "    \n",
    "    # Initialize TF-IDF vectorizer and fit on the combined content\n",
    "    tfidf = TfidfVectorizer(stop_words='english')\n",
    "    tfidf_matrix = tfidf.fit_transform(df_content['content'])\n",
    "    \n",
    "    # Find the index of the article_id in df_content\n",
    "    article_idx = df_content[df_content['article_id'] == article_id].index[0]\n",
    "    \n",
    "    # Compute the cosine similarity of the article with all other articles\n",
    "    cosine_sim = cosine_similarity(tfidf_matrix[article_idx], tfidf_matrix).flatten()\n",
    "    \n",
    "    # Get the indices of the top_n most similar articles\n",
    "    similar_indices = cosine_sim.argsort()[-top_n-1:-1][::-1]\n",
    "    \n",
    "    # Get the article_ids and doc_full_name of the top_n most similar articles\n",
    "    recommendations = df_content.iloc[similar_indices][['article_id', 'doc_full_name']].drop_duplicates()\n",
    "    \n",
    "    # Reset the index to start from 1 instead of 0\n",
    "    recommendations.reset_index(drop=True, inplace=True)\n",
    "    recommendations.index = recommendations.index + 1\n",
    "\n",
    "    # Handle the case where no recommendations are found\n",
    "    if recommendations.empty:\n",
    "        print(f\"No recommendations available for article ID {article_id}.\")\n",
    "    return recommendations"
   ]
  },
  {
   "cell_type": "markdown",
   "metadata": {},
   "source": [
    "`2.` Now that you have put together your content-based recommendation system, use the cell below to write a summary explaining how your content based recommender works.  Do you see any possible improvements that could be made to your function?  Is there anything novel about your content based recommender?"
   ]
  },
  {
   "cell_type": "markdown",
   "metadata": {},
   "source": [
    "## Content-Based Recommendation System:\r\n",
    "\r\n",
    "In this project, I implemented a **Content-Based Recommendation System** to suggest articles based on the content of previously interacted articles. Content-based filtering relies on the features of the items themselves (in this case, the articles) rather than user behavior or interactions. It recommends items that are similar in content to the articles a user has already interacted with, providing a tailored experience even for users who have not interacted with many articles (e.g., brand-new users).\r\n",
    "\r\n",
    "### Approach:\r\n",
    "\r\n",
    "1. **Feature Extraction:**\r\n",
    "   The first step in building the content-based recommender was extracting features from the articles. I used the following columns:\r\n",
    "   - `doc_body`: This column contains the body text of the article.\r\n",
    "   - `doc_description`: A brief description of the article.\r\n",
    "   - `doc_full_name`: The full name or title of the article.\r\n",
    "\r\n",
    "   These text columns were combined into a single `content` column, which was used for generating recommendations based on similarity.\r\n",
    "\r\n",
    "2. **Text Preprocessing:**\r\n",
    "   Before applying the recommendation algorithm, I preprocessed the text data by:\r\n",
    "   - **Handling Missing Values**: I filled any missing values in the `doc_body`, `doc_description`, and `doc_full_name` columns with empty strings to avoid issues during the TF-IDF transformation.\r\n",
    "   - **Cleaning Irrelevant Content**: I removed irrelevant content such as \"Skip navigation\" from the text, which might have appeared in some articles.\r\n",
    "\r\n",
    "3. **TF-IDF Vectorization:**\r\n",
    "   To convert the textual data into a numerical format, I used **TF-IDF (Term Frequency-Inverse Document Frequency)** vectorization. This technique assigns a weight to each word in the document based on its frequency in the document and how common it is across all documents. Words that appear frequently in a specific article but are rare across the entire dataset are assigned higher weights.\r\n",
    "\r\n",
    "4. **Cosine Similarity:**\r\n",
    "   After transforming the articles into numerical vectors using TF-IDF, I calculated the **cosine similarity** between the article the user interacted with and all other articles. Cosine similarity measures the cosine of the angle between two vectors in a multi-dimensional space. A similarity score closer to 1 indicates that the articles are more similar in content, while a score closer to 0 indicates less similarity.\r\n",
    "\r\n",
    "5. **Recommendations:**\r\n",
    "   Based on the calculated cosine similarity, I recommended the top `n` most similar articles to the user. These articles were ranked according to their similarity scores, and the top articles were selected as the final recommendations.\r\n",
    "\r\n",
    "### Use Case for a New User:\r\n",
    "\r\n",
    "For a **brand-new user** who has not interacted with any articles yet, we cannot rely on user history to make recommendations. Instead, we can use **rank-based recommendations** by suggesting the **most popular articles** based on the number of interactions from other users.\r\n",
    "\r\n",
    "The idea is to recommend articles that have the highest number of interactions (e.g., views or clicks) regardless of the user's personal history. This helps in providing a quick start for the new user, exposing them to the most popular content on the platform.\r\n",
    "\r\n",
    "By using the **get_top_articles** function, we can generate a list of the top articles, ensuring the new user is recommended articles that are widely popular and have proven to be of interest to other users.\r\n",
    "\r\n",
    "This approach helps overcome the **cold-start problem** (i.e., making recommendations when there is little to no interaction data) by suggesting the **most relevant content** based on popularity, rather than personalized recommendations.\r\n",
    "\r\n",
    "### Challenges and Limitations:\r\n",
    "- **Limited to Article Content**: This method is restricted to the textual content of the articles. It does not take into account other factors like user preferences, ratings, or interaction history, which could provide more personalized recommendations.\r\n",
    "- **Over-simplification**: The content-based filtering assumes that articles similar in text are equally interesting to the user. This is a simplification and may not always be accurate because it overlooks the diversity of user interests and context.\r\n",
    "- **Scalability**: For larger datasets, computing the cosine similarity for all pairs of articles can become computationally expensive, requiring optimizations such as dimensionality reduction or more advanced algorithms like matrix factorization.\r\n",
    "\r\n",
    "### Improvements:\r\n",
    "- **Hybrid Recommendation System**: To overcome some of the limitations of content-based filtering, a hybrid approach could be used that combines content-based recommendations with collaborative filtering. This way, content-based filtering can handle new users, while collaborative filtering can provide better recommendations once sufficient user data is available.\r\n",
    "- **Personalization**: Further personalization could be achieved by incorporating additional metadata (e.g., user demographic information, article categories) to refine recommendations.\r\n"
   ]
  },
  {
   "cell_type": "markdown",
   "metadata": {},
   "source": [
    "`3.` Use your content-recommendation system to make recommendations for the below scenarios based on the comments.  Again no tests are provided here, because there isn't one right answer that could be used to find these content based recommendations."
   ]
  },
  {
   "cell_type": "code",
   "execution_count": 31,
   "metadata": {},
   "outputs": [
    {
     "name": "stdout",
     "output_type": "stream",
     "text": [
      "Top 10 articles for a brand-new user:\n",
      "Article ID    Title\n",
      "--------------------------------------------------------------------------------\n",
      "1429.0    use deep learning for image classification\n",
      "1330.0    insights from new york car accident reports\n",
      "1431.0    visualize car data with brunel\n",
      "1427.0    use xgboost, scikit-learn & ibm watson machine learning apis\n",
      "1364.0    predicting churn with the spss random tree algorithm\n",
      "1314.0    healthcare python streaming application demo\n",
      "1293.0    finding optimal locations of new store using decision optimization\n",
      "1170.0    apache spark lab, part 1: basic concepts\n",
      "1162.0    analyze energy consumption in buildings\n",
      "1304.0    gosales transactions for logistic regression model\n"
     ]
    }
   ],
   "source": [
    "# Make recommendations for a brand-new user\n",
    "# For a brand-new user with no previous interaction, use the top articles based on popularity.\n",
    "top_10_articles_for_new_user = get_top_articles(10)\n",
    "\n",
    "# Assuming get_top_articles returns titles, map them to their article_ids\n",
    "top_10_article_ids = get_top_article_ids(10)\n",
    "\n",
    "# Display article_id and title as columns with extra space between the columns\n",
    "print(\"Top 10 articles for a brand-new user:\")\n",
    "print(f\"{'Article ID'}    {'Title'}\")  # Column headers with extra space between them\n",
    "print(\"-\" * 80)  # Separator line to match length\n",
    "\n",
    "# Print article_id and title for each recommended article\n",
    "for article_id, title in zip(top_10_article_ids, top_10_articles_for_new_user):\n",
    "    print(f\"{article_id}    {title}\")  # Add more spaces between article_id and title"
   ]
  },
  {
   "cell_type": "code",
   "execution_count": 32,
   "metadata": {},
   "outputs": [
    {
     "name": "stdout",
     "output_type": "stream",
     "text": [
      "Error: Article ID 1427.0 not found in df_content.\n",
      "Empty DataFrame\n",
      "Columns: []\n",
      "Index: []\n"
     ]
    }
   ],
   "source": [
    "# make a recommendations for a user who only has interacted with article id '1427.0'\n",
    "# Example for a new user who has interacted with article_id 1427.0\n",
    "new_user_article_id = 1427.0  # Replace with an actual article_id if needed\n",
    "top_10_recommendations = make_content_recs(df_content, article_id=new_user_article_id, top_n=10)\n",
    "print(top_10_recommendations)"
   ]
  },
  {
   "cell_type": "code",
   "execution_count": 33,
   "metadata": {
    "scrolled": true
   },
   "outputs": [
    {
     "name": "stdout",
     "output_type": "stream",
     "text": [
      "    article_id                                      doc_full_name\n",
      "1          228  Publish apps that use R analysis with Shiny an...\n",
      "2          787                                Cloud Data Services\n",
      "3          318                 Use dashDB with Pyspark and Pandas\n",
      "4         1001                             Get started in Bluemix\n",
      "5          378                   Use dashDB with Watson Analytics\n",
      "6           84  Tutorial: How to load Twitter data in IBM dashDB \n",
      "7          424                            Create Tables in dashDB\n",
      "8          154                            Use dashDB with Tableau\n",
      "9          469                             Connect apps to dashDB\n",
      "10         594                 NY Motor Vehicle Accident Analysis\n"
     ]
    }
   ],
   "source": [
    "# Example for a new user who has interacted with article_id 1049.0\n",
    "new_user_article_id = 1049.0  # Replace with an actual article_id if needed\n",
    "top_10_recommendations = make_content_recs(df_content, article_id=new_user_article_id, top_n=10)\n",
    "print(top_10_recommendations)"
   ]
  },
  {
   "cell_type": "markdown",
   "metadata": {},
   "source": [
    "### <a class=\"anchor\" id=\"Matrix-Fact\">Part V: Matrix Factorization</a>\n",
    "\n",
    "In this part of the notebook, you will build use matrix factorization to make article recommendations to the users on the IBM Watson Studio platform.\n",
    "\n",
    "`1.` You should have already created a **user_item** matrix above in **question 1** of **Part III** above.  This first question here will just require that you run the cells to get things set up for the rest of **Part V** of the notebook. "
   ]
  },
  {
   "cell_type": "code",
   "execution_count": 34,
   "metadata": {},
   "outputs": [],
   "source": [
    "# Load the matrix here\n",
    "user_item_matrix = pd.read_pickle('user_item_matrix.p')"
   ]
  },
  {
   "cell_type": "code",
   "execution_count": 35,
   "metadata": {},
   "outputs": [
    {
     "data": {
      "text/html": [
       "<div>\n",
       "<style scoped>\n",
       "    .dataframe tbody tr th:only-of-type {\n",
       "        vertical-align: middle;\n",
       "    }\n",
       "\n",
       "    .dataframe tbody tr th {\n",
       "        vertical-align: top;\n",
       "    }\n",
       "\n",
       "    .dataframe thead th {\n",
       "        text-align: right;\n",
       "    }\n",
       "</style>\n",
       "<table border=\"1\" class=\"dataframe\">\n",
       "  <thead>\n",
       "    <tr style=\"text-align: right;\">\n",
       "      <th>article_id</th>\n",
       "      <th>0.0</th>\n",
       "      <th>100.0</th>\n",
       "      <th>1000.0</th>\n",
       "      <th>1004.0</th>\n",
       "      <th>1006.0</th>\n",
       "      <th>1008.0</th>\n",
       "      <th>101.0</th>\n",
       "      <th>1014.0</th>\n",
       "      <th>1015.0</th>\n",
       "      <th>1016.0</th>\n",
       "      <th>...</th>\n",
       "      <th>977.0</th>\n",
       "      <th>98.0</th>\n",
       "      <th>981.0</th>\n",
       "      <th>984.0</th>\n",
       "      <th>985.0</th>\n",
       "      <th>986.0</th>\n",
       "      <th>990.0</th>\n",
       "      <th>993.0</th>\n",
       "      <th>996.0</th>\n",
       "      <th>997.0</th>\n",
       "    </tr>\n",
       "    <tr>\n",
       "      <th>user_id</th>\n",
       "      <th></th>\n",
       "      <th></th>\n",
       "      <th></th>\n",
       "      <th></th>\n",
       "      <th></th>\n",
       "      <th></th>\n",
       "      <th></th>\n",
       "      <th></th>\n",
       "      <th></th>\n",
       "      <th></th>\n",
       "      <th></th>\n",
       "      <th></th>\n",
       "      <th></th>\n",
       "      <th></th>\n",
       "      <th></th>\n",
       "      <th></th>\n",
       "      <th></th>\n",
       "      <th></th>\n",
       "      <th></th>\n",
       "      <th></th>\n",
       "      <th></th>\n",
       "    </tr>\n",
       "  </thead>\n",
       "  <tbody>\n",
       "    <tr>\n",
       "      <th>1</th>\n",
       "      <td>0.0</td>\n",
       "      <td>0.0</td>\n",
       "      <td>0.0</td>\n",
       "      <td>0.0</td>\n",
       "      <td>0.0</td>\n",
       "      <td>0.0</td>\n",
       "      <td>0.0</td>\n",
       "      <td>0.0</td>\n",
       "      <td>0.0</td>\n",
       "      <td>0.0</td>\n",
       "      <td>...</td>\n",
       "      <td>0.0</td>\n",
       "      <td>0.0</td>\n",
       "      <td>1.0</td>\n",
       "      <td>0.0</td>\n",
       "      <td>0.0</td>\n",
       "      <td>0.0</td>\n",
       "      <td>0.0</td>\n",
       "      <td>0.0</td>\n",
       "      <td>0.0</td>\n",
       "      <td>0.0</td>\n",
       "    </tr>\n",
       "    <tr>\n",
       "      <th>2</th>\n",
       "      <td>0.0</td>\n",
       "      <td>0.0</td>\n",
       "      <td>0.0</td>\n",
       "      <td>0.0</td>\n",
       "      <td>0.0</td>\n",
       "      <td>0.0</td>\n",
       "      <td>0.0</td>\n",
       "      <td>0.0</td>\n",
       "      <td>0.0</td>\n",
       "      <td>0.0</td>\n",
       "      <td>...</td>\n",
       "      <td>0.0</td>\n",
       "      <td>0.0</td>\n",
       "      <td>0.0</td>\n",
       "      <td>0.0</td>\n",
       "      <td>0.0</td>\n",
       "      <td>0.0</td>\n",
       "      <td>0.0</td>\n",
       "      <td>0.0</td>\n",
       "      <td>0.0</td>\n",
       "      <td>0.0</td>\n",
       "    </tr>\n",
       "    <tr>\n",
       "      <th>3</th>\n",
       "      <td>0.0</td>\n",
       "      <td>0.0</td>\n",
       "      <td>0.0</td>\n",
       "      <td>0.0</td>\n",
       "      <td>0.0</td>\n",
       "      <td>0.0</td>\n",
       "      <td>0.0</td>\n",
       "      <td>0.0</td>\n",
       "      <td>0.0</td>\n",
       "      <td>0.0</td>\n",
       "      <td>...</td>\n",
       "      <td>1.0</td>\n",
       "      <td>0.0</td>\n",
       "      <td>0.0</td>\n",
       "      <td>0.0</td>\n",
       "      <td>0.0</td>\n",
       "      <td>0.0</td>\n",
       "      <td>0.0</td>\n",
       "      <td>0.0</td>\n",
       "      <td>0.0</td>\n",
       "      <td>0.0</td>\n",
       "    </tr>\n",
       "    <tr>\n",
       "      <th>4</th>\n",
       "      <td>0.0</td>\n",
       "      <td>0.0</td>\n",
       "      <td>0.0</td>\n",
       "      <td>0.0</td>\n",
       "      <td>0.0</td>\n",
       "      <td>0.0</td>\n",
       "      <td>0.0</td>\n",
       "      <td>0.0</td>\n",
       "      <td>0.0</td>\n",
       "      <td>0.0</td>\n",
       "      <td>...</td>\n",
       "      <td>0.0</td>\n",
       "      <td>0.0</td>\n",
       "      <td>0.0</td>\n",
       "      <td>0.0</td>\n",
       "      <td>0.0</td>\n",
       "      <td>0.0</td>\n",
       "      <td>0.0</td>\n",
       "      <td>0.0</td>\n",
       "      <td>0.0</td>\n",
       "      <td>0.0</td>\n",
       "    </tr>\n",
       "    <tr>\n",
       "      <th>5</th>\n",
       "      <td>0.0</td>\n",
       "      <td>0.0</td>\n",
       "      <td>0.0</td>\n",
       "      <td>0.0</td>\n",
       "      <td>0.0</td>\n",
       "      <td>0.0</td>\n",
       "      <td>0.0</td>\n",
       "      <td>0.0</td>\n",
       "      <td>0.0</td>\n",
       "      <td>0.0</td>\n",
       "      <td>...</td>\n",
       "      <td>0.0</td>\n",
       "      <td>0.0</td>\n",
       "      <td>0.0</td>\n",
       "      <td>0.0</td>\n",
       "      <td>0.0</td>\n",
       "      <td>0.0</td>\n",
       "      <td>0.0</td>\n",
       "      <td>0.0</td>\n",
       "      <td>0.0</td>\n",
       "      <td>0.0</td>\n",
       "    </tr>\n",
       "  </tbody>\n",
       "</table>\n",
       "<p>5 rows × 714 columns</p>\n",
       "</div>"
      ],
      "text/plain": [
       "article_id  0.0  100.0  1000.0  1004.0  1006.0  1008.0  101.0  1014.0  1015.0  \\\n",
       "user_id                                                                         \n",
       "1           0.0    0.0     0.0     0.0     0.0     0.0    0.0     0.0     0.0   \n",
       "2           0.0    0.0     0.0     0.0     0.0     0.0    0.0     0.0     0.0   \n",
       "3           0.0    0.0     0.0     0.0     0.0     0.0    0.0     0.0     0.0   \n",
       "4           0.0    0.0     0.0     0.0     0.0     0.0    0.0     0.0     0.0   \n",
       "5           0.0    0.0     0.0     0.0     0.0     0.0    0.0     0.0     0.0   \n",
       "\n",
       "article_id  1016.0  ...  977.0  98.0  981.0  984.0  985.0  986.0  990.0  \\\n",
       "user_id             ...                                                   \n",
       "1              0.0  ...    0.0   0.0    1.0    0.0    0.0    0.0    0.0   \n",
       "2              0.0  ...    0.0   0.0    0.0    0.0    0.0    0.0    0.0   \n",
       "3              0.0  ...    1.0   0.0    0.0    0.0    0.0    0.0    0.0   \n",
       "4              0.0  ...    0.0   0.0    0.0    0.0    0.0    0.0    0.0   \n",
       "5              0.0  ...    0.0   0.0    0.0    0.0    0.0    0.0    0.0   \n",
       "\n",
       "article_id  993.0  996.0  997.0  \n",
       "user_id                          \n",
       "1             0.0    0.0    0.0  \n",
       "2             0.0    0.0    0.0  \n",
       "3             0.0    0.0    0.0  \n",
       "4             0.0    0.0    0.0  \n",
       "5             0.0    0.0    0.0  \n",
       "\n",
       "[5 rows x 714 columns]"
      ]
     },
     "execution_count": 35,
     "metadata": {},
     "output_type": "execute_result"
    }
   ],
   "source": [
    "# quick look at the matrix\n",
    "user_item_matrix.head()"
   ]
  },
  {
   "cell_type": "markdown",
   "metadata": {},
   "source": [
    "`2.` In this situation, you can use Singular Value Decomposition from [numpy](https://docs.scipy.org/doc/numpy-1.14.0/reference/generated/numpy.linalg.svd.html) on the user-item matrix.  Use the cell to perform SVD, and explain why this is different than in the lesson."
   ]
  },
  {
   "cell_type": "code",
   "execution_count": 36,
   "metadata": {},
   "outputs": [],
   "source": [
    "# Perform SVD on the User-Item Matrix Here\n",
    "\n",
    "u, s, vt = np.linalg.svd(user_item_matrix) # use the built in to get the three matrices"
   ]
  },
  {
   "cell_type": "markdown",
   "metadata": {},
   "source": [
    "## Singular Value Decomposition (SVD)\n",
    "Singular Value Decomposition (SVD) works when there are no null values. In our case, the updated matrix contains only two values:\n",
    "- `1` if a user interacted with an article.\n",
    "- `0` if no interaction occurred.\n",
    "\n",
    "Since there are no null values in the matrix, we can perform SVD using NumPy."
   ]
  },
  {
   "cell_type": "markdown",
   "metadata": {},
   "source": [
    "`3.` Now for the tricky part, how do we choose the number of latent features to use?  Running the below cell, you can see that as the number of latent features increases, we obtain a lower error rate on making predictions for the 1 and 0 values in the user-item matrix.  Run the cell below to get an idea of how the accuracy improves as we increase the number of latent features."
   ]
  },
  {
   "cell_type": "code",
   "execution_count": 37,
   "metadata": {},
   "outputs": [
    {
     "name": "stderr",
     "output_type": "stream",
     "text": [
      "C:\\Users\\Makarand\\AppData\\Roaming\\Python\\Python39\\site-packages\\numpy\\core\\fromnumeric.py:86: FutureWarning: The behavior of DataFrame.sum with axis=None is deprecated, in a future version this will reduce over both axes and return a scalar. To retain the old behavior, pass axis=0 (or do not pass axis)\n",
      "  return reduction(axis=axis, out=out, **passkwargs)\n"
     ]
    },
    {
     "data": {
      "image/png": "[encoded data removed]",
      "text/plain": [
       "<Figure size 640x480 with 1 Axes>"
      ]
     },
     "metadata": {},
     "output_type": "display_data"
    }
   ],
   "source": [
    "num_latent_feats = np.arange(10,700+10,20)\n",
    "sum_errs = []\n",
    "\n",
    "for k in num_latent_feats:\n",
    "    # restructure with k latent features\n",
    "    s_new, u_new, vt_new = np.diag(s[:k]), u[:, :k], vt[:k, :]\n",
    "    \n",
    "    # take dot product\n",
    "    user_item_est = np.around(np.dot(np.dot(u_new, s_new), vt_new))\n",
    "    \n",
    "    # compute error for each prediction to actual value\n",
    "    diffs = np.subtract(user_item_matrix, user_item_est)\n",
    "    \n",
    "    # total errors and keep track of them\n",
    "    err = np.sum(np.sum(np.abs(diffs)))\n",
    "    sum_errs.append(err)\n",
    "    \n",
    "    \n",
    "plt.plot(num_latent_feats, 1 - np.array(sum_errs)/df.shape[0]);\n",
    "plt.xlabel('Number of Latent Features');\n",
    "plt.ylabel('Accuracy');\n",
    "plt.title('Accuracy vs. Number of Latent Features');"
   ]
  },
  {
   "cell_type": "markdown",
   "metadata": {},
   "source": [
    "`4.` From the above, we can't really be sure how many features to use, because simply having a better way to predict the 1's and 0's of the matrix doesn't exactly give us an indication of if we are able to make good recommendations.  Instead, we might split our dataset into a training and test set of data, as shown in the cell below.  \n",
    "\n",
    "Use the code from question 3 to understand the impact on accuracy of the training and test sets of data with different numbers of latent features. Using the split below: \n",
    "\n",
    "* How many users can we make predictions for in the test set?  \n",
    "* How many users are we not able to make predictions for because of the cold start problem?\n",
    "* How many articles can we make predictions for in the test set?  \n",
    "* How many articles are we not able to make predictions for because of the cold start problem?"
   ]
  },
  {
   "cell_type": "code",
   "execution_count": 38,
   "metadata": {},
   "outputs": [],
   "source": [
    "# Splitting data into training and testing sets\n",
    "df_train = df.head(40000)\n",
    "df_test = df.tail(5993)\n",
    "\n",
    "def create_test_and_train_user_item(df_train, df_test):\n",
    "    '''\n",
    "    INPUT:\n",
    "    df_train - DataFrame containing the training data\n",
    "    df_test - DataFrame containing the testing data\n",
    "    \n",
    "    OUTPUT:\n",
    "    user_item_train - User-item matrix created from the training data\n",
    "    user_item_test - User-item matrix created from the testing data\n",
    "    test_idx - List of unique user IDs from the testing data\n",
    "    test_arts - List of unique article IDs from the testing data\n",
    "    '''\n",
    "    # Create the user-item matrices\n",
    "    user_item_train = create_user_item_matrix(df_train)\n",
    "    user_item_test = create_user_item_matrix(df_test)\n",
    "    \n",
    "    # Extract user IDs and article IDs as lists\n",
    "    test_idx = list(user_item_test.index.values)\n",
    "    test_arts = list(user_item_test.columns.values)\n",
    "    \n",
    "    return user_item_train, user_item_test, test_idx, test_arts\n",
    "\n",
    "# Calling the function to create matrices and retrieve lists of IDs\n",
    "user_item_train, user_item_test, test_idx, test_arts = create_test_and_train_user_item(df_train, df_test)"
   ]
  },
  {
   "cell_type": "code",
   "execution_count": 39,
   "metadata": {},
   "outputs": [
    {
     "name": "stdout",
     "output_type": "stream",
     "text": [
      "Number of users we can make predictions for in the test set: 20\n"
     ]
    }
   ],
   "source": [
    "# How many users can we make predictions for in the test set?\n",
    "train_users = set(df_train['user_id'].unique())\n",
    "test_users = set(df_test['user_id'].unique())\n",
    "\n",
    "# Find the intersection of the two sets and count the number of common users\n",
    "common_users_count = len(train_users & test_users)\n",
    "\n",
    "print(f\"Number of users we can make predictions for in the test set: {common_users_count}\")"
   ]
  },
  {
   "cell_type": "code",
   "execution_count": 40,
   "metadata": {},
   "outputs": [
    {
     "name": "stdout",
     "output_type": "stream",
     "text": [
      "Number of users in the test set we cannot make predictions for: 662\n"
     ]
    }
   ],
   "source": [
    "# How many users in the test set are we not able to make predictions for because of the cold start problem?\n",
    "train_users = set(df_train['user_id'].unique())\n",
    "test_users = set(df_test['user_id'].unique())\n",
    "\n",
    "# Find users in the test set not present in the training set\n",
    "cold_start_users_count = len(test_users - train_users)\n",
    "\n",
    "print(f\"Number of users in the test set we cannot make predictions for: {cold_start_users_count}\")"
   ]
  },
  {
   "cell_type": "code",
   "execution_count": 41,
   "metadata": {},
   "outputs": [
    {
     "name": "stdout",
     "output_type": "stream",
     "text": [
      "Number of articles we can make predictions for in the test set: 574\n"
     ]
    }
   ],
   "source": [
    "# How many articles can we make predictions for in the test set?\n",
    "train_articles = set(df_train['article_id'].unique())\n",
    "test_articles = set(df_test['article_id'].unique())\n",
    "\n",
    "# Find articles present in both training and test sets\n",
    "common_articles_count = len(train_articles & test_articles)\n",
    "\n",
    "print(f\"Number of articles we can make predictions for in the test set: {common_articles_count}\")"
   ]
  },
  {
   "cell_type": "code",
   "execution_count": 42,
   "metadata": {},
   "outputs": [
    {
     "name": "stdout",
     "output_type": "stream",
     "text": [
      "Number of articles in the test set with the cold start problem: 0\n"
     ]
    }
   ],
   "source": [
    "# How many articles in the test set are we not able to make predictions for because of the cold start problem?\n",
    "train_articles = set(df_train['article_id'].unique())\n",
    "test_articles = set(df_test['article_id'].unique())\n",
    "\n",
    "# Find articles in the test set that are not in the training set\n",
    "cold_start_articles_count = len(test_articles - train_articles)\n",
    "\n",
    "print(f\"Number of articles in the test set with the cold start problem: {cold_start_articles_count}\")\n"
   ]
  },
  {
   "cell_type": "code",
   "execution_count": 43,
   "metadata": {},
   "outputs": [
    {
     "name": "stdout",
     "output_type": "stream",
     "text": [
      "Awesome job!  That's right!  All of the test articles are in the training data, but there are only 20 test users that were also in the training set.  All of the other users that are in the test set we have no data on.  Therefore, we cannot make predictions for these users using SVD.\n"
     ]
    }
   ],
   "source": [
    "# Replace the values in the dictionary below\n",
    "a = 662 \n",
    "b = 574 \n",
    "c = 20 \n",
    "d = 0 \n",
    "\n",
    "\n",
    "sol_4_dict = {\n",
    "    'How many users can we make predictions for in the test set?': c, \n",
    "    'How many users in the test set are we not able to make predictions for because of the cold start problem?': a,\n",
    "    'How many articles can we make predictions for in the test set?': b,\n",
    "    'How many articles in the test set are we not able to make predictions for because of the cold start problem?': d\n",
    "}\n",
    "\n",
    "t.sol_4_test(sol_4_dict)"
   ]
  },
  {
   "cell_type": "markdown",
   "metadata": {},
   "source": [
    "`5.` Now use the **user_item_train** dataset from above to find U, S, and V transpose using SVD. Then find the subset of rows in the **user_item_test** dataset that you can predict using this matrix decomposition with different numbers of latent features to see how many features makes sense to keep based on the accuracy on the test data. This will require combining what was done in questions `2` - `4`.\n",
    "\n",
    "Use the cells below to explore how well SVD works towards making predictions for recommendations on the test data.  "
   ]
  },
  {
   "cell_type": "code",
   "execution_count": 44,
   "metadata": {},
   "outputs": [],
   "source": [
    "# fit SVD on the user_item_train matrix\n",
    "u_train, s_train, vt_train = np.linalg.svd(user_item_train) # fit svd similar to above then use the cells below"
   ]
  },
  {
   "cell_type": "code",
   "execution_count": 45,
   "metadata": {},
   "outputs": [],
   "source": [
    "# Use these cells to see how well you can use the training \n",
    "# decomposition to predict on test data"
   ]
  },
  {
   "cell_type": "code",
   "execution_count": 46,
   "metadata": {},
   "outputs": [
    {
     "data": {
      "image/png": "[encoded data removed]",
      "text/plain": [
       "<Figure size 640x480 with 1 Axes>"
      ]
     },
     "metadata": {},
     "output_type": "display_data"
    }
   ],
   "source": [
    "# Identify common users and articles between training and test datasets\n",
    "common_users = np.intersect1d(test_idx, user_item_train.index)\n",
    "common_articles = np.intersect1d(test_arts, user_item_train.columns)\n",
    "\n",
    "# Filter test dataset to include only common users and articles\n",
    "filtered_user_item_test = user_item_test.loc[\n",
    "    user_item_test.index.isin(common_users), \n",
    "    user_item_test.columns.isin(common_articles)\n",
    "]\n",
    "\n",
    "# Get indices for the common users and articles in the training dataset\n",
    "train_user_indices = [np.where(user_item_train.index == user)[0][0] for user in common_users]\n",
    "train_article_indices = [np.where(user_item_train.columns == article)[0][0] for article in common_articles]\n",
    "\n",
    "# Initialize a list to store errors and define the latent feature range\n",
    "latent_features_range = np.arange(10, 710, 20)\n",
    "errors = []\n",
    "\n",
    "# Loop over different numbers of latent features\n",
    "for k in latent_features_range:\n",
    "    # Create reduced matrices for the current number of latent features\n",
    "    u_reduced = u_train[:, :k]\n",
    "    s_reduced = np.diag(s_train[:k])\n",
    "    vt_reduced = vt_train[:k, :]\n",
    "    \n",
    "    # Get the corresponding reduced matrices for the test dataset\n",
    "    test_user_matrix = u_reduced[train_user_indices, :]\n",
    "    test_article_matrix = vt_reduced[:, train_article_indices]\n",
    "    \n",
    "    # Predict user-item interactions using matrix multiplication\n",
    "    predicted_matrix = np.around(np.dot(np.dot(test_user_matrix, s_reduced), test_article_matrix))\n",
    "    \n",
    "    # Compute the error between actual and predicted values\n",
    "    differences = np.abs(filtered_user_item_test.values - predicted_matrix)\n",
    "    total_error = differences.sum()\n",
    "    errors.append(total_error)\n",
    "\n",
    "# Compute accuracy and plot the curve\n",
    "accuracy = 1 - np.array(errors) / filtered_user_item_test.size\n",
    "plt.plot(latent_features_range, accuracy)\n",
    "plt.xlabel('Number of Latent Features')\n",
    "plt.ylabel('Accuracy')\n",
    "plt.title('Accuracy vs. Number of Latent Features')\n",
    "plt.show()\n"
   ]
  },
  {
   "cell_type": "markdown",
   "metadata": {
    "collapsed": true,
    "jupyter": {
     "outputs_hidden": true
    }
   },
   "source": [
    "`6.` Use the cell below to comment on the results you found in the previous question. Given the circumstances of your results, discuss what you might do to determine if the recommendations you make with any of the above recommendation systems are an improvement to how users currently find articles? "
   ]
  },
  {
   "cell_type": "markdown",
   "metadata": {},
   "source": [
    "<a id='ProjectAnalysis'></a>\n",
    "# Project Analysis and Final Recommendations\n",
    "\n",
    "## SVD Analysis and A/B Testing Plan\n",
    "\n",
    "For the test data, accuracy decreases as the number of latent features increases. This may occur because only 20 users are shared between the training and test datasets, leading to limited generalization. Additionally, there is a significant imbalance in user-article interactions, with most values being zero (sparse data).  \r\n",
    "\r\n",
    "While adding latent features improves accuracy on the training data, it does not significantly enhance the test data's performance. This suggests potential overfitting. To address this, performing cross-validation could help identify the optimal number of latent features that generalize well across different subsets of the data.  \r\n",
    "\r\n",
    "### Improvements:\r\n",
    "- **Model Enhancements**: Incorporating regularization techniques (e.g., L2 regularization) or reducing the dimensionality of the dataset through feature engineering could mitigate overfitting.  \r\n",
    "- **Alternative Algorithms**: Exploring other matrix factorization methods, such as Non-Negative Matrix Factorization (NMF), might yield better results for sparse data.  \r\n",
    "\r\n",
    "### Evaluation:\r\n",
    "SVD provides a clear improvement over rank-based recommendations and user-user collaborative filtering. To further evaluate its effectiveness, conducting A/B testing is recommended.  \r\n",
    "\r\n",
    "### Steps for A/B Testing:\r\n",
    "1. Ensure that each recommendation system receives an equal and randomized sample of users to avoid bias.  \r\n",
    "2. Test only one variable at a time, such as comparing two recommendation systems, without testing other features concurrently.  \r\n",
    "3. Allow the test to run for a sufficient duration to collect meaningful data for statistical significance.  \r\n",
    "4. Complement quantitative data with qualitative insights by collecting user feedback through surveys or polls.  \r\n",
    "\r\n",
    "By adhering to these principles, A/B testing can provide robust insights into user preferences and the effectiveness of the recommendation system.\r\n"
   ]
  },
  {
   "cell_type": "markdown",
   "metadata": {
    "collapsed": true,
    "jupyter": {
     "outputs_hidden": true
    }
   },
   "source": [
    "<a id='conclusions'></a>\n",
    "### Extras\n",
    "Using your workbook, you could now save your recommendations for each user, develop a class to make new predictions and update your results, and make a flask app to deploy your results.  These tasks are beyond what is required for this project.  However, from what you learned in the lessons, you certainly capable of taking these tasks on to improve upon your work here!\n",
    "\n",
    "\n",
    "## Conclusion\n",
    "\n",
    "> Congratulations!  You have reached the end of the Recommendations with IBM project! \n",
    "\n",
    "> **Tip**: Once you are satisfied with your work here, check over your report to make sure that it is satisfies all the areas of the [rubric](https://review.udacity.com/#!/rubrics/2322/view). You should also probably remove all of the \"Tips\" like this one so that the presentation is as polished as possible.\n",
    "\n",
    "\n",
    "## Directions to Submit\n",
    "\n",
    "> Before you submit your project, you need to create a .html or .pdf version of this notebook in the workspace here. To do that, run the code cell below. If it worked correctly, you should get a return code of 0, and you should see the generated .html file in the workspace directory (click on the orange Jupyter icon in the upper left).\n",
    "\n",
    "> Alternatively, you can download this report as .html via the **File** > **Download as** submenu, and then manually upload it into the workspace directory by clicking on the orange Jupyter icon in the upper left, then using the Upload button.\n",
    "\n",
    "> Once you've done this, you can submit your project by clicking on the \"Submit Project\" button in the lower right here. This will create and submit a zip file with this .ipynb doc and the .html or .pdf version you created. Congratulations! "
   ]
  },
  {
   "cell_type": "code",
   "execution_count": 47,
   "metadata": {},
   "outputs": [
    {
     "data": {
      "text/plain": [
       "0"
      ]
     },
     "execution_count": 47,
     "metadata": {},
     "output_type": "execute_result"
    }
   ],
   "source": [
    "call(['python', '-m', 'nbconvert', '--to', 'html', 'Recommendations_with_IBM.ipynb'])"
   ]
  },
  {
   "cell_type": "code",
   "execution_count": null,
   "metadata": {},
   "outputs": [],
   "source": []
  },
  {
   "cell_type": "code",
   "execution_count": null,
   "metadata": {},
   "outputs": [],
   "source": []
  }
 ],
 "metadata": {
  "kernelspec": {
   "display_name": "Python 3 (ipykernel)",
   "language": "python",
   "name": "python3"
  },
  "language_info": {
   "codemirror_mode": {
    "name": "ipython",
    "version": 3
   },
   "file_extension": ".py",
   "mimetype": "text/x-python",
   "name": "python",
   "nbconvert_exporter": "python",
   "pygments_lexer": "ipython3",
   "version": "3.9.18"
  }
 },
 "nbformat": 4,
 "nbformat_minor": 4
}
